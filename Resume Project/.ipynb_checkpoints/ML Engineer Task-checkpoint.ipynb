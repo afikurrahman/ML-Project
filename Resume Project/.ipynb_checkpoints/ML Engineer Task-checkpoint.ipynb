{
 "cells": [
  {
   "cell_type": "code",
   "execution_count": 1,
   "id": "f2379248-b0c6-48cf-965e-030d7bd8871f",
   "metadata": {},
   "outputs": [],
   "source": [
    "import numpy as np\n",
    "import pandas as pd\n",
    "import matplotlib.pyplot as plt\n",
    "import seaborn as sns\n",
    "from sklearn.metrics import classification_report, accuracy_score\n",
    "from sklearn.metrics import confusion_matrix\n",
    "from sklearn.metrics import precision_score, recall_score, f1_score"
   ]
  },
  {
   "cell_type": "code",
   "execution_count": 2,
   "id": "a7f8f297-9308-4e4a-a418-d43399e5197f",
   "metadata": {},
   "outputs": [
    {
     "ename": "FileNotFoundError",
     "evalue": "[Errno 2] No such file or directory: 'Resume.csv'",
     "output_type": "error",
     "traceback": [
      "\u001b[1;31m---------------------------------------------------------------------------\u001b[0m",
      "\u001b[1;31mFileNotFoundError\u001b[0m                         Traceback (most recent call last)",
      "Cell \u001b[1;32mIn[2], line 1\u001b[0m\n\u001b[1;32m----> 1\u001b[0m df\u001b[38;5;241m=\u001b[39mpd\u001b[38;5;241m.\u001b[39mread_csv(\u001b[38;5;124m'\u001b[39m\u001b[38;5;124mResume.csv\u001b[39m\u001b[38;5;124m'\u001b[39m)\n",
      "File \u001b[1;32m~\\anaconda3\\Lib\\site-packages\\pandas\\io\\parsers\\readers.py:1026\u001b[0m, in \u001b[0;36mread_csv\u001b[1;34m(filepath_or_buffer, sep, delimiter, header, names, index_col, usecols, dtype, engine, converters, true_values, false_values, skipinitialspace, skiprows, skipfooter, nrows, na_values, keep_default_na, na_filter, verbose, skip_blank_lines, parse_dates, infer_datetime_format, keep_date_col, date_parser, date_format, dayfirst, cache_dates, iterator, chunksize, compression, thousands, decimal, lineterminator, quotechar, quoting, doublequote, escapechar, comment, encoding, encoding_errors, dialect, on_bad_lines, delim_whitespace, low_memory, memory_map, float_precision, storage_options, dtype_backend)\u001b[0m\n\u001b[0;32m   1013\u001b[0m kwds_defaults \u001b[38;5;241m=\u001b[39m _refine_defaults_read(\n\u001b[0;32m   1014\u001b[0m     dialect,\n\u001b[0;32m   1015\u001b[0m     delimiter,\n\u001b[1;32m   (...)\u001b[0m\n\u001b[0;32m   1022\u001b[0m     dtype_backend\u001b[38;5;241m=\u001b[39mdtype_backend,\n\u001b[0;32m   1023\u001b[0m )\n\u001b[0;32m   1024\u001b[0m kwds\u001b[38;5;241m.\u001b[39mupdate(kwds_defaults)\n\u001b[1;32m-> 1026\u001b[0m \u001b[38;5;28;01mreturn\u001b[39;00m _read(filepath_or_buffer, kwds)\n",
      "File \u001b[1;32m~\\anaconda3\\Lib\\site-packages\\pandas\\io\\parsers\\readers.py:620\u001b[0m, in \u001b[0;36m_read\u001b[1;34m(filepath_or_buffer, kwds)\u001b[0m\n\u001b[0;32m    617\u001b[0m _validate_names(kwds\u001b[38;5;241m.\u001b[39mget(\u001b[38;5;124m\"\u001b[39m\u001b[38;5;124mnames\u001b[39m\u001b[38;5;124m\"\u001b[39m, \u001b[38;5;28;01mNone\u001b[39;00m))\n\u001b[0;32m    619\u001b[0m \u001b[38;5;66;03m# Create the parser.\u001b[39;00m\n\u001b[1;32m--> 620\u001b[0m parser \u001b[38;5;241m=\u001b[39m TextFileReader(filepath_or_buffer, \u001b[38;5;241m*\u001b[39m\u001b[38;5;241m*\u001b[39mkwds)\n\u001b[0;32m    622\u001b[0m \u001b[38;5;28;01mif\u001b[39;00m chunksize \u001b[38;5;129;01mor\u001b[39;00m iterator:\n\u001b[0;32m    623\u001b[0m     \u001b[38;5;28;01mreturn\u001b[39;00m parser\n",
      "File \u001b[1;32m~\\anaconda3\\Lib\\site-packages\\pandas\\io\\parsers\\readers.py:1620\u001b[0m, in \u001b[0;36mTextFileReader.__init__\u001b[1;34m(self, f, engine, **kwds)\u001b[0m\n\u001b[0;32m   1617\u001b[0m     \u001b[38;5;28mself\u001b[39m\u001b[38;5;241m.\u001b[39moptions[\u001b[38;5;124m\"\u001b[39m\u001b[38;5;124mhas_index_names\u001b[39m\u001b[38;5;124m\"\u001b[39m] \u001b[38;5;241m=\u001b[39m kwds[\u001b[38;5;124m\"\u001b[39m\u001b[38;5;124mhas_index_names\u001b[39m\u001b[38;5;124m\"\u001b[39m]\n\u001b[0;32m   1619\u001b[0m \u001b[38;5;28mself\u001b[39m\u001b[38;5;241m.\u001b[39mhandles: IOHandles \u001b[38;5;241m|\u001b[39m \u001b[38;5;28;01mNone\u001b[39;00m \u001b[38;5;241m=\u001b[39m \u001b[38;5;28;01mNone\u001b[39;00m\n\u001b[1;32m-> 1620\u001b[0m \u001b[38;5;28mself\u001b[39m\u001b[38;5;241m.\u001b[39m_engine \u001b[38;5;241m=\u001b[39m \u001b[38;5;28mself\u001b[39m\u001b[38;5;241m.\u001b[39m_make_engine(f, \u001b[38;5;28mself\u001b[39m\u001b[38;5;241m.\u001b[39mengine)\n",
      "File \u001b[1;32m~\\anaconda3\\Lib\\site-packages\\pandas\\io\\parsers\\readers.py:1880\u001b[0m, in \u001b[0;36mTextFileReader._make_engine\u001b[1;34m(self, f, engine)\u001b[0m\n\u001b[0;32m   1878\u001b[0m     \u001b[38;5;28;01mif\u001b[39;00m \u001b[38;5;124m\"\u001b[39m\u001b[38;5;124mb\u001b[39m\u001b[38;5;124m\"\u001b[39m \u001b[38;5;129;01mnot\u001b[39;00m \u001b[38;5;129;01min\u001b[39;00m mode:\n\u001b[0;32m   1879\u001b[0m         mode \u001b[38;5;241m+\u001b[39m\u001b[38;5;241m=\u001b[39m \u001b[38;5;124m\"\u001b[39m\u001b[38;5;124mb\u001b[39m\u001b[38;5;124m\"\u001b[39m\n\u001b[1;32m-> 1880\u001b[0m \u001b[38;5;28mself\u001b[39m\u001b[38;5;241m.\u001b[39mhandles \u001b[38;5;241m=\u001b[39m get_handle(\n\u001b[0;32m   1881\u001b[0m     f,\n\u001b[0;32m   1882\u001b[0m     mode,\n\u001b[0;32m   1883\u001b[0m     encoding\u001b[38;5;241m=\u001b[39m\u001b[38;5;28mself\u001b[39m\u001b[38;5;241m.\u001b[39moptions\u001b[38;5;241m.\u001b[39mget(\u001b[38;5;124m\"\u001b[39m\u001b[38;5;124mencoding\u001b[39m\u001b[38;5;124m\"\u001b[39m, \u001b[38;5;28;01mNone\u001b[39;00m),\n\u001b[0;32m   1884\u001b[0m     compression\u001b[38;5;241m=\u001b[39m\u001b[38;5;28mself\u001b[39m\u001b[38;5;241m.\u001b[39moptions\u001b[38;5;241m.\u001b[39mget(\u001b[38;5;124m\"\u001b[39m\u001b[38;5;124mcompression\u001b[39m\u001b[38;5;124m\"\u001b[39m, \u001b[38;5;28;01mNone\u001b[39;00m),\n\u001b[0;32m   1885\u001b[0m     memory_map\u001b[38;5;241m=\u001b[39m\u001b[38;5;28mself\u001b[39m\u001b[38;5;241m.\u001b[39moptions\u001b[38;5;241m.\u001b[39mget(\u001b[38;5;124m\"\u001b[39m\u001b[38;5;124mmemory_map\u001b[39m\u001b[38;5;124m\"\u001b[39m, \u001b[38;5;28;01mFalse\u001b[39;00m),\n\u001b[0;32m   1886\u001b[0m     is_text\u001b[38;5;241m=\u001b[39mis_text,\n\u001b[0;32m   1887\u001b[0m     errors\u001b[38;5;241m=\u001b[39m\u001b[38;5;28mself\u001b[39m\u001b[38;5;241m.\u001b[39moptions\u001b[38;5;241m.\u001b[39mget(\u001b[38;5;124m\"\u001b[39m\u001b[38;5;124mencoding_errors\u001b[39m\u001b[38;5;124m\"\u001b[39m, \u001b[38;5;124m\"\u001b[39m\u001b[38;5;124mstrict\u001b[39m\u001b[38;5;124m\"\u001b[39m),\n\u001b[0;32m   1888\u001b[0m     storage_options\u001b[38;5;241m=\u001b[39m\u001b[38;5;28mself\u001b[39m\u001b[38;5;241m.\u001b[39moptions\u001b[38;5;241m.\u001b[39mget(\u001b[38;5;124m\"\u001b[39m\u001b[38;5;124mstorage_options\u001b[39m\u001b[38;5;124m\"\u001b[39m, \u001b[38;5;28;01mNone\u001b[39;00m),\n\u001b[0;32m   1889\u001b[0m )\n\u001b[0;32m   1890\u001b[0m \u001b[38;5;28;01massert\u001b[39;00m \u001b[38;5;28mself\u001b[39m\u001b[38;5;241m.\u001b[39mhandles \u001b[38;5;129;01mis\u001b[39;00m \u001b[38;5;129;01mnot\u001b[39;00m \u001b[38;5;28;01mNone\u001b[39;00m\n\u001b[0;32m   1891\u001b[0m f \u001b[38;5;241m=\u001b[39m \u001b[38;5;28mself\u001b[39m\u001b[38;5;241m.\u001b[39mhandles\u001b[38;5;241m.\u001b[39mhandle\n",
      "File \u001b[1;32m~\\anaconda3\\Lib\\site-packages\\pandas\\io\\common.py:873\u001b[0m, in \u001b[0;36mget_handle\u001b[1;34m(path_or_buf, mode, encoding, compression, memory_map, is_text, errors, storage_options)\u001b[0m\n\u001b[0;32m    868\u001b[0m \u001b[38;5;28;01melif\u001b[39;00m \u001b[38;5;28misinstance\u001b[39m(handle, \u001b[38;5;28mstr\u001b[39m):\n\u001b[0;32m    869\u001b[0m     \u001b[38;5;66;03m# Check whether the filename is to be opened in binary mode.\u001b[39;00m\n\u001b[0;32m    870\u001b[0m     \u001b[38;5;66;03m# Binary mode does not support 'encoding' and 'newline'.\u001b[39;00m\n\u001b[0;32m    871\u001b[0m     \u001b[38;5;28;01mif\u001b[39;00m ioargs\u001b[38;5;241m.\u001b[39mencoding \u001b[38;5;129;01mand\u001b[39;00m \u001b[38;5;124m\"\u001b[39m\u001b[38;5;124mb\u001b[39m\u001b[38;5;124m\"\u001b[39m \u001b[38;5;129;01mnot\u001b[39;00m \u001b[38;5;129;01min\u001b[39;00m ioargs\u001b[38;5;241m.\u001b[39mmode:\n\u001b[0;32m    872\u001b[0m         \u001b[38;5;66;03m# Encoding\u001b[39;00m\n\u001b[1;32m--> 873\u001b[0m         handle \u001b[38;5;241m=\u001b[39m \u001b[38;5;28mopen\u001b[39m(\n\u001b[0;32m    874\u001b[0m             handle,\n\u001b[0;32m    875\u001b[0m             ioargs\u001b[38;5;241m.\u001b[39mmode,\n\u001b[0;32m    876\u001b[0m             encoding\u001b[38;5;241m=\u001b[39mioargs\u001b[38;5;241m.\u001b[39mencoding,\n\u001b[0;32m    877\u001b[0m             errors\u001b[38;5;241m=\u001b[39merrors,\n\u001b[0;32m    878\u001b[0m             newline\u001b[38;5;241m=\u001b[39m\u001b[38;5;124m\"\u001b[39m\u001b[38;5;124m\"\u001b[39m,\n\u001b[0;32m    879\u001b[0m         )\n\u001b[0;32m    880\u001b[0m     \u001b[38;5;28;01melse\u001b[39;00m:\n\u001b[0;32m    881\u001b[0m         \u001b[38;5;66;03m# Binary mode\u001b[39;00m\n\u001b[0;32m    882\u001b[0m         handle \u001b[38;5;241m=\u001b[39m \u001b[38;5;28mopen\u001b[39m(handle, ioargs\u001b[38;5;241m.\u001b[39mmode)\n",
      "\u001b[1;31mFileNotFoundError\u001b[0m: [Errno 2] No such file or directory: 'Resume.csv'"
     ]
    }
   ],
   "source": [
    "df=pd.read_csv('Resume.csv')"
   ]
  },
  {
   "cell_type": "code",
   "execution_count": null,
   "id": "9bd7073d-2403-4c41-aded-710bd4d4cd2d",
   "metadata": {},
   "outputs": [],
   "source": [
    "df.sample(5)"
   ]
  },
  {
   "cell_type": "code",
   "execution_count": null,
   "id": "c6b0c571-b637-4528-ba9a-6b5c57026cbf",
   "metadata": {},
   "outputs": [],
   "source": [
    "df.shape"
   ]
  },
  {
   "cell_type": "code",
   "execution_count": null,
   "id": "150789f4-e2b8-4ebd-843f-9ee8ee7a8fb3",
   "metadata": {},
   "outputs": [],
   "source": [
    "df.info()"
   ]
  },
  {
   "cell_type": "code",
   "execution_count": null,
   "id": "8215b1f8-1054-481c-b48d-1f5c5454396a",
   "metadata": {},
   "outputs": [],
   "source": [
    "df.isnull().sum()"
   ]
  },
  {
   "cell_type": "code",
   "execution_count": null,
   "id": "fae47fc3-2c76-4856-8398-f6f542dcf471",
   "metadata": {},
   "outputs": [],
   "source": [
    "df.duplicated().sum()"
   ]
  },
  {
   "cell_type": "code",
   "execution_count": null,
   "id": "9d96a878-4b2c-45b6-bf54-6704fbc40f1c",
   "metadata": {},
   "outputs": [],
   "source": [
    "df['Category'].unique()"
   ]
  },
  {
   "cell_type": "code",
   "execution_count": null,
   "id": "0bfaddcd-563d-40d5-8915-ec7caa8051a8",
   "metadata": {},
   "outputs": [],
   "source": [
    "df['Category'].nunique()"
   ]
  },
  {
   "cell_type": "code",
   "execution_count": null,
   "id": "af6beeee-928f-4d32-a869-f82c2863f580",
   "metadata": {},
   "outputs": [],
   "source": [
    "df['Category'].value_counts()"
   ]
  },
  {
   "cell_type": "code",
   "execution_count": null,
   "id": "65a16f1a-a8d9-4bc8-aac3-17f7b9726f9a",
   "metadata": {},
   "outputs": [],
   "source": [
    "plt.figure(figsize=(12,4))\n",
    "sns.countplot(x=df['Category'])\n",
    "plt.xticks(rotation=90)\n",
    "plt.show()"
   ]
  },
  {
   "cell_type": "code",
   "execution_count": null,
   "id": "124bcba4-f841-4948-bcd4-6d417034fce8",
   "metadata": {},
   "outputs": [],
   "source": [
    "df['Category'].value_counts().plot(kind='bar',figsize=(12,4))\n",
    "plt.title('Distribution of Resume Categories')\n",
    "plt.xticks(rotation=90)\n",
    "plt.show()"
   ]
  },
  {
   "cell_type": "code",
   "execution_count": null,
   "id": "0981c555-5f8d-41b4-9a33-7fcc88198b97",
   "metadata": {},
   "outputs": [],
   "source": [
    "df['Category'].value_counts().plot(kind='pie',autopct='%.2f%%',figsize=(15,10),shadow=True,colors=plt.cm.coolwarm(np.linspace(0,1,3)))\n",
    "plt.xticks(rotation=90)"
   ]
  },
  {
   "cell_type": "markdown",
   "id": "4d131cf5-6638-4877-b2b7-e9dee5cc6784",
   "metadata": {},
   "source": [
    "## Preprocessing and Encoding:"
   ]
  },
  {
   "cell_type": "code",
   "execution_count": null,
   "id": "4d6203cc-9ce3-42b9-83ba-8a660c80b8c0",
   "metadata": {},
   "outputs": [],
   "source": [
    "df['Resume_str'][0]"
   ]
  },
  {
   "cell_type": "code",
   "execution_count": null,
   "id": "4668869f-41a8-4508-9405-5c6920c70440",
   "metadata": {},
   "outputs": [],
   "source": [
    "import re \n",
    "import string\n",
    "def clean_text(text):\n",
    "    text = re.sub(r'\\W', ' ', text)\n",
    "    text = re.sub(r'\\s+', ' ', text)\n",
    "    text = text.lower()\n",
    "    return text"
   ]
  },
  {
   "cell_type": "code",
   "execution_count": null,
   "id": "e2ab5170-95ff-4485-b999-edbe3767cbca",
   "metadata": {},
   "outputs": [],
   "source": [
    "df['Resume_str']=df['Resume_str'].apply(clean_text)"
   ]
  },
  {
   "cell_type": "code",
   "execution_count": null,
   "id": "f67e3ddb-5e84-4f0a-a5b9-f89b97cf15df",
   "metadata": {},
   "outputs": [],
   "source": [
    "df['Resume_str'][0]"
   ]
  },
  {
   "cell_type": "markdown",
   "id": "18aa3ee8-4471-4f6d-b189-0923949b477d",
   "metadata": {},
   "source": [
    "Workflow:\n",
    "    1. Fit the label encoder on the Category column to learn the unique categories.\r",
    "    2. \n",
    "Transform the Category column into encoded numerical values.    3. \r\n",
    "Fit the TF-IDF vectorizer on the Resume column to learn the vocabulary and IDF (Inverse Document Frequency) of the words    4. .\r\n",
    "Transform the Resume texts into a sparse matrix of TF-IDF features."
   ]
  },
  {
   "cell_type": "code",
   "execution_count": null,
   "id": "96f949ca-15b1-4bdb-9599-68c8b00f3266",
   "metadata": {},
   "outputs": [],
   "source": [
    "from sklearn.preprocessing import LabelEncoder\n",
    "le=LabelEncoder()\n",
    "le.fit(df['Category'])\n",
    "df['Category']=le.transform(df['Category'])"
   ]
  },
  {
   "cell_type": "code",
   "execution_count": null,
   "id": "1f353543-7764-4401-a748-7e862d99dc42",
   "metadata": {},
   "outputs": [],
   "source": [
    "df['Category'].unique()"
   ]
  },
  {
   "cell_type": "code",
   "execution_count": null,
   "id": "51fdf2d3-436e-43eb-9254-99624ac1746a",
   "metadata": {},
   "outputs": [],
   "source": [
    "df['Category'].value_counts()"
   ]
  },
  {
   "cell_type": "code",
   "execution_count": null,
   "id": "d944cc20-c6d3-4fb1-b04c-a8fd8b684767",
   "metadata": {},
   "outputs": [],
   "source": [
    "from sklearn.feature_extraction.text import TfidfVectorizer"
   ]
  },
  {
   "cell_type": "code",
   "execution_count": null,
   "id": "e90dec10-63f2-4c60-842c-1fb6b7cf75f0",
   "metadata": {},
   "outputs": [],
   "source": [
    "tfidf=TfidfVectorizer(max_features=5000,stop_words='english')\n",
    "tfidf.fit(df['Resume_str'])\n",
    "requredTaxt=tfidf.transform(df['Resume_str'])"
   ]
  },
  {
   "cell_type": "code",
   "execution_count": null,
   "id": "a434bebb-f705-42b8-9bd6-be229ebaeb14",
   "metadata": {},
   "outputs": [],
   "source": [
    "requredTaxt"
   ]
  },
  {
   "cell_type": "markdown",
   "id": "ece7d999-b057-48fb-bbc1-13ff11b17cd8",
   "metadata": {},
   "source": [
    "## Train Test Data and Modeling"
   ]
  },
  {
   "cell_type": "code",
   "execution_count": null,
   "id": "fbb13a5b-f779-43bf-afdb-d1cfc27e7981",
   "metadata": {},
   "outputs": [],
   "source": [
    "from sklearn.model_selection import train_test_split\n",
    "X_train, X_temp, y_train, y_temp = train_test_split(requredTaxt,df['Category'], test_size=0.3, random_state=42, stratify=df['Category'])\n",
    "X_val, X_test, y_val, y_test = train_test_split(X_temp, y_temp, test_size=0.5, random_state=42, stratify=y_temp)\n",
    "\n",
    "print(\"Training set size:\", X_train.shape)\n",
    "print(\"Validation set size:\", X_val.shape)\n",
    "print(\"Test set size:\", X_test.shape)\n"
   ]
  },
  {
   "cell_type": "code",
   "execution_count": null,
   "id": "7ceb1769-bb7d-402c-884b-0ba446198e26",
   "metadata": {},
   "outputs": [],
   "source": [
    "X_train.shape"
   ]
  },
  {
   "cell_type": "code",
   "execution_count": null,
   "id": "68e5e0a1-5864-4aee-8761-39d4b4de9f60",
   "metadata": {},
   "outputs": [],
   "source": [
    "X_test.shape"
   ]
  },
  {
   "cell_type": "code",
   "execution_count": null,
   "id": "8310e20b-9e54-43c8-8feb-7a805f8fd32e",
   "metadata": {},
   "outputs": [],
   "source": [
    "accuracy_lis=[] #\n",
    "model_lis=[]"
   ]
  },
  {
   "cell_type": "markdown",
   "id": "5b03dc26-1aa6-4a01-b5bd-717d7f021d62",
   "metadata": {},
   "source": [
    "# Training and Evaluating Multiple Machine Learning Models"
   ]
  },
  {
   "cell_type": "markdown",
   "id": "8a6412d1-9de4-4ec9-ab46-20d749535166",
   "metadata": {},
   "source": [
    "In order to build a robust NLP-based resume classification system, it's beneficial to train and compare the performance of multiple machine learning models. This approach allows us to select the best model based on performance metrics such as accuracy."
   ]
  },
  {
   "cell_type": "markdown",
   "id": "40e03da5-b8a8-480e-891c-71733c84624d",
   "metadata": {},
   "source": [
    "Models Considered:"
   ]
  },
  {
   "cell_type": "markdown",
   "id": "e55458f8-912e-4881-94d6-f0a256837914",
   "metadata": {},
   "source": [
    "1. K-Nearest Neighbors (KNN) Classifier: Already implemented, a non-parametric, instance-based learning algorithm.\n",
    "2. Logistic Regression: A linear model for classification that predicts the probability of a categorical dependent variable.\n",
    "3. Random Forest Classifier: An ensemble learning method that operates by constructing a multitude of decision trees at training time and       outputting the class that is the mode of the classes of the individual trees.\n",
    "4. Multinomial Naive Bayes: A probabilistic learning method that is particularly suited for text classification tasks."
   ]
  },
  {
   "cell_type": "markdown",
   "id": "37def74a-ed05-4ac5-8d1c-67f8d7afad82",
   "metadata": {},
   "source": [
    "Evaluation Metric:"
   ]
  },
  {
   "cell_type": "markdown",
   "id": "d50bd5ee-a8f4-445b-9260-0a60cbe2c38b",
   "metadata": {},
   "source": [
    "All models are evaluated using the accuracy score, which is the proportion of correct predictions over all predictions made."
   ]
  },
  {
   "cell_type": "code",
   "execution_count": null,
   "id": "546bc21f-6116-4af2-aac0-2f97ea832047",
   "metadata": {},
   "outputs": [],
   "source": [
    "from sklearn.naive_bayes import MultinomialNB\n",
    "ml= MultinomialNB()\n",
    "ml.fit(X_train, y_train)"
   ]
  },
  {
   "cell_type": "code",
   "execution_count": null,
   "id": "636be583-313f-4075-97d9-d8721d178014",
   "metadata": {},
   "outputs": [],
   "source": [
    "y_val_pred = ml.predict(X_val)\n",
    "print(\"Accuracy:\", accuracy_score(y_val, y_val_pred))"
   ]
  },
  {
   "cell_type": "code",
   "execution_count": null,
   "id": "4c25494f-2a1a-4e82-842f-453da85f4c65",
   "metadata": {},
   "outputs": [],
   "source": [
    "y_test_pred = ml.predict(X_test)\n",
    "print(\"Accuracy:\",accuracy_score(y_test, y_test_pred))\n",
    "\n",
    "print(\"precision:\",precision_score(y_test, y_test_pred, average='weighted',zero_division=0))\n",
    "print(\"recall:\",recall_score(y_test, y_test_pred, average='weighted'))\n",
    "print(\"f1:\",f1_score(y_test, y_test_pred, average='weighted'))\n",
    "print(classification_report(y_test, y_test_pred,zero_division=0))\n",
    "\n",
    "model_lis.append(\"MultinomialNB\")\n",
    "accuracy_lis.append(accuracy_score(y_val, y_val_pred)*100)"
   ]
  },
  {
   "cell_type": "code",
   "execution_count": null,
   "id": "fffdee5b-fb16-42bd-9e20-e46857227e40",
   "metadata": {},
   "outputs": [],
   "source": [
    "from sklearn.linear_model import LogisticRegression\n",
    "from sklearn.metrics import classification_report, accuracy_score\n",
    "LR = LogisticRegression(max_iter=1000)\n",
    "LR.fit(X_train, y_train)"
   ]
  },
  {
   "cell_type": "code",
   "execution_count": null,
   "id": "c8f5bf82-5948-43b4-9f23-1bfcc63a58c8",
   "metadata": {},
   "outputs": [],
   "source": [
    "y_val_pred = LR.predict(X_val)\n",
    "print(\"Accuracy:\", accuracy_score(y_val, y_val_pred))"
   ]
  },
  {
   "cell_type": "code",
   "execution_count": null,
   "id": "3247cbe6-c76f-43ba-98d2-c8757c3eaf07",
   "metadata": {},
   "outputs": [],
   "source": [
    "y_test_pred = LR.predict(X_test)\n",
    "print(\"Accuracy:\",accuracy_score(y_test, y_test_pred))\n",
    "\n",
    "print(\"precision:\",precision_score(y_test, y_test_pred, average='weighted',zero_division=0))\n",
    "print(\"recall:\",recall_score(y_test, y_test_pred, average='weighted'))\n",
    "print(\"f1:\",f1_score(y_test, y_test_pred, average='weighted'))\n",
    "print(classification_report(y_test, y_test_pred,zero_division=0))\n",
    "\n",
    "model_lis.append(\"LogisticRegression\")\n",
    "accuracy_lis.append(accuracy_score(y_val, y_val_pred)*100)"
   ]
  },
  {
   "cell_type": "code",
   "execution_count": null,
   "id": "4d664eb2-ef51-4698-9505-60c4fac80fec",
   "metadata": {},
   "outputs": [],
   "source": [
    "from sklearn.neighbors import KNeighborsClassifier\n",
    "clf=KNeighborsClassifier()\n",
    "clf.fit(X_train,y_train)"
   ]
  },
  {
   "cell_type": "code",
   "execution_count": null,
   "id": "ba7d6cc9-22af-4612-b9f4-2ee84cece02f",
   "metadata": {},
   "outputs": [],
   "source": [
    "y_val_pred = clf.predict(X_val)\n",
    "print(\"Accuracy:\", accuracy_score(y_val, y_val_pred))"
   ]
  },
  {
   "cell_type": "code",
   "execution_count": null,
   "id": "66add5c4-8510-4c92-ad20-e052d2f557c0",
   "metadata": {},
   "outputs": [],
   "source": [
    "y_test_pred = clf.predict(X_test)\n",
    "print(\"Accuracy:\",accuracy_score(y_test, y_test_pred))\n",
    "\n",
    "print(\"precision:\",precision_score(y_test, y_test_pred, average='weighted',zero_division=0))\n",
    "print(\"recall:\",recall_score(y_test, y_test_pred, average='weighted'))\n",
    "print(\"f1:\",f1_score(y_test, y_test_pred, average='weighted'))\n",
    "print(classification_report(y_test, y_test_pred,zero_division=0))\n",
    "\n",
    "model_lis.append(\"KNeighborsClassifier\")\n",
    "accuracy_lis.append(accuracy_score(y_val, y_val_pred)*100)"
   ]
  },
  {
   "cell_type": "code",
   "execution_count": null,
   "id": "c71dd96a-80f5-4d9b-93b7-f0b4ffe76012",
   "metadata": {},
   "outputs": [],
   "source": [
    "from sklearn.ensemble import RandomForestClassifier\n",
    "RFC = RandomForestClassifier()\n",
    "RFC.fit(X_train, y_train)"
   ]
  },
  {
   "cell_type": "code",
   "execution_count": null,
   "id": "393fccb2-b668-499c-8591-d092fbb15f18",
   "metadata": {},
   "outputs": [],
   "source": [
    "y_val_pred = RFC.predict(X_val)\n",
    "print(\"Accuracy:\", accuracy_score(y_val, y_val_pred))"
   ]
  },
  {
   "cell_type": "code",
   "execution_count": null,
   "id": "2fc80206-2b83-4dc9-b4ed-e75bbeebf8c8",
   "metadata": {},
   "outputs": [],
   "source": [
    "y_test_pred = RFC.predict(X_test)\n",
    "print(\"Accuracy:\",accuracy_score(y_test, y_test_pred))\n",
    "\n",
    "print(\"precision:\",precision_score(y_test, y_test_pred, average='weighted',zero_division=0))\n",
    "print(\"recall:\",recall_score(y_test, y_test_pred, average='weighted'))\n",
    "print(\"f1:\",f1_score(y_test, y_test_pred, average='weighted'))\n",
    "print(classification_report(y_test, y_test_pred,zero_division=0))\n",
    "\n",
    "model_lis.append(\"RandomForestClassifier\")\n",
    "accuracy_lis.append(accuracy_score(y_val, y_val_pred)*100)"
   ]
  },
  {
   "cell_type": "code",
   "execution_count": null,
   "id": "900615d0-305d-4a0a-9bb1-37efb822fc4e",
   "metadata": {},
   "outputs": [],
   "source": [
    "print(confusion_matrix(y_test,y_test_pred))"
   ]
  },
  {
   "cell_type": "markdown",
   "id": "c5116440-12d4-456f-8c6f-5bcbe4f70033",
   "metadata": {},
   "source": [
    "# Summarization of the models and accuracy"
   ]
  },
  {
   "cell_type": "code",
   "execution_count": null,
   "id": "5cbbfdf3-78b5-4c9f-a357-bda29b5586ab",
   "metadata": {},
   "outputs": [],
   "source": [
    "accuracy_data = pd.DataFrame({'model': model_lis, 'accuracy': accuracy_lis})\n",
    "\n",
    "# Plot the data\n",
    "plt.figure(figsize=(8, 6))\n",
    "plt.bar(accuracy_data['model'], accuracy_data['accuracy'])\n",
    "plt.xlabel('Model Name')\n",
    "plt.ylabel('Accuracy')\n",
    "plt.xticks(rotation=45)\n",
    "plt.title('Overview of the models and accuracy')\n",
    "plt.show()"
   ]
  },
  {
   "cell_type": "markdown",
   "id": "f1509e76-0daf-49e7-8c27-ef48ed70791e",
   "metadata": {},
   "source": [
    "# Pickle File"
   ]
  },
  {
   "cell_type": "code",
   "execution_count": null,
   "id": "c06d012a-4590-4472-b390-658f21875468",
   "metadata": {},
   "outputs": [],
   "source": [
    "import pickle\n",
    "pickle.dump(RFC,open('model.pkl','wb'))"
   ]
  },
  {
   "cell_type": "code",
   "execution_count": null,
   "id": "b450e706-1b90-47d9-a7bf-02ff854ae6a8",
   "metadata": {},
   "outputs": [],
   "source": [
    "ID_to_find = 22323967\n",
    "resume_str_value = df.loc[df['ID'] == ID_to_find, 'Resume_str'].values[0]\n",
    "print(resume_str_value)"
   ]
  },
  {
   "cell_type": "code",
   "execution_count": null,
   "id": "4b13ec3e-015c-4ff1-9b97-4a1b25f1f867",
   "metadata": {},
   "outputs": [],
   "source": []
  },
  {
   "cell_type": "code",
   "execution_count": null,
   "id": "108d0ed9-b0e8-42d9-968d-1b1ffbc808e6",
   "metadata": {},
   "outputs": [],
   "source": [
    "\n"
   ]
  },
  {
   "cell_type": "code",
   "execution_count": null,
   "id": "2f2769cb-fbe8-45a5-8116-bb09f89f2087",
   "metadata": {},
   "outputs": [],
   "source": []
  },
  {
   "cell_type": "code",
   "execution_count": null,
   "id": "fdb7bece-b638-4a36-8940-696d2013fee8",
   "metadata": {},
   "outputs": [],
   "source": []
  }
 ],
 "metadata": {
  "kernelspec": {
   "display_name": "Python 3 (ipykernel)",
   "language": "python",
   "name": "python3"
  },
  "language_info": {
   "codemirror_mode": {
    "name": "ipython",
    "version": 3
   },
   "file_extension": ".py",
   "mimetype": "text/x-python",
   "name": "python",
   "nbconvert_exporter": "python",
   "pygments_lexer": "ipython3",
   "version": "3.12.4"
  }
 },
 "nbformat": 4,
 "nbformat_minor": 5
}
